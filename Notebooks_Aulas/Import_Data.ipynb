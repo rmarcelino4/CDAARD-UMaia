{
 "cells": [
  {
   "cell_type": "markdown",
   "source": [
    "# Instruções para importar os dados"
   ],
   "metadata": {
    "collapsed": false,
    "pycharm": {
     "name": "#%% md\n"
    }
   }
  },
  {
   "cell_type": "code",
   "execution_count": 1,
   "outputs": [],
   "source": [
    "# importar a biblioteca pandas\n",
    "\n",
    "import pandas as pd"
   ],
   "metadata": {
    "collapsed": false,
    "pycharm": {
     "name": "#%%\n"
    }
   }
  },
  {
   "cell_type": "code",
   "execution_count": 9,
   "outputs": [
    {
     "data": {
      "text/plain": "                        Team  Performance_Index       Nationality  \\\nPlayer                                                              \nGabriel              Benfica              318.0  Brazil. Portugal   \nJesus Corona           Porto              312.0            Mexico   \nDiogo Leite            Porto              311.0          Portugal   \nJoao Mario       Sporting CP              310.0  Portugal. Angola   \nPedro Goncalves  Sporting CP              305.0          Portugal   \n\n                National_team_   Age  Height  Weight   Foot  \\\nPlayer                                                        \nGabriel                    NaN  27.0   186.0    82.0   left   \nJesus Corona            Mexico  27.0   173.0    62.0   both   \nDiogo Leite           Portugal  21.0   192.0    81.0   left   \nJoao Mario                 NaN  27.0   179.0    67.0  right   \nPedro Goncalves       Portugal  22.0   173.0    58.0  right   \n\n                 Matches_played_total  Minutes_played_total  ...  \\\nPlayer                                                       ...   \nGabriel                             8                   592  ...   \nJesus Corona                       13                  1143  ...   \nDiogo Leite                         5                   483  ...   \nJoao Mario                          4                   200  ...   \nPedro Goncalves                    10                   753  ...   \n\n                 xG_Expected_goals_total  Expected_assists_total  \\\nPlayer                                                             \nGabriel                             0.48                    0.26   \nJesus Corona                        2.78                    5.23   \nDiogo Leite                         0.38                    0.21   \nJoao Mario                          0.45                    0.92   \nPedro Goncalves                     2.77                    5.35   \n\n                 xG_per_shot_total  xG_per_goal_total  xG_conversion_total  \\\nPlayer                                                                       \nGabriel                       0.07               0.48                 2.08   \nJesus Corona                  0.17               0.93                 1.08   \nDiogo Leite                   0.13               0.19                 5.26   \nJoao Mario                    0.08                NaN                  NaN   \nPedro Goncalves               0.12               0.40                 2.53   \n\n                 xG_with_a_player_on_total  \\\nPlayer                                       \nGabriel                              13.89   \nJesus Corona                         17.59   \nDiogo Leite                           9.37   \nJoao Mario                            6.26   \nPedro Goncalves                      15.68   \n\n                 Opponent's_xG_with_a_player_on_total  \\\nPlayer                                                  \nGabriel                                          5.67   \nJesus Corona                                    10.27   \nDiogo Leite                                      2.36   \nJoao Mario                                       1.22   \nPedro Goncalves                                  4.55   \n\n                 Net_xG_xG_player_on__opp._team's_xG_total  \\\nPlayer                                                       \nGabriel                                               8.22   \nJesus Corona                                          7.32   \nDiogo Leite                                           7.01   \nJoao Mario                                            5.04   \nPedro Goncalves                                      11.13   \n\n                 Defensive_xG_xG_of_shots_made_by_guarded_player_total  \\\nPlayer                                                                   \nGabriel                                                       0.02       \nJesus Corona                                                  0.02       \nDiogo Leite                                                   0.60       \nJoao Mario                                                    0.04       \nPedro Goncalves                                               0.13       \n\n                 Defensive_xG_per_shot_total  \nPlayer                                        \nGabriel                                 0.02  \nJesus Corona                            0.02  \nDiogo Leite                             0.10  \nJoao Mario                              0.02  \nPedro Goncalves                         0.13  \n\n[5 rows x 80 columns]",
      "text/html": "<div>\n<style scoped>\n    .dataframe tbody tr th:only-of-type {\n        vertical-align: middle;\n    }\n\n    .dataframe tbody tr th {\n        vertical-align: top;\n    }\n\n    .dataframe thead th {\n        text-align: right;\n    }\n</style>\n<table border=\"1\" class=\"dataframe\">\n  <thead>\n    <tr style=\"text-align: right;\">\n      <th></th>\n      <th>Team</th>\n      <th>Performance_Index</th>\n      <th>Nationality</th>\n      <th>National_team_</th>\n      <th>Age</th>\n      <th>Height</th>\n      <th>Weight</th>\n      <th>Foot</th>\n      <th>Matches_played_total</th>\n      <th>Minutes_played_total</th>\n      <th>...</th>\n      <th>xG_Expected_goals_total</th>\n      <th>Expected_assists_total</th>\n      <th>xG_per_shot_total</th>\n      <th>xG_per_goal_total</th>\n      <th>xG_conversion_total</th>\n      <th>xG_with_a_player_on_total</th>\n      <th>Opponent's_xG_with_a_player_on_total</th>\n      <th>Net_xG_xG_player_on__opp._team's_xG_total</th>\n      <th>Defensive_xG_xG_of_shots_made_by_guarded_player_total</th>\n      <th>Defensive_xG_per_shot_total</th>\n    </tr>\n    <tr>\n      <th>Player</th>\n      <th></th>\n      <th></th>\n      <th></th>\n      <th></th>\n      <th></th>\n      <th></th>\n      <th></th>\n      <th></th>\n      <th></th>\n      <th></th>\n      <th></th>\n      <th></th>\n      <th></th>\n      <th></th>\n      <th></th>\n      <th></th>\n      <th></th>\n      <th></th>\n      <th></th>\n      <th></th>\n      <th></th>\n    </tr>\n  </thead>\n  <tbody>\n    <tr>\n      <th>Gabriel</th>\n      <td>Benfica</td>\n      <td>318.0</td>\n      <td>Brazil. Portugal</td>\n      <td>NaN</td>\n      <td>27.0</td>\n      <td>186.0</td>\n      <td>82.0</td>\n      <td>left</td>\n      <td>8</td>\n      <td>592</td>\n      <td>...</td>\n      <td>0.48</td>\n      <td>0.26</td>\n      <td>0.07</td>\n      <td>0.48</td>\n      <td>2.08</td>\n      <td>13.89</td>\n      <td>5.67</td>\n      <td>8.22</td>\n      <td>0.02</td>\n      <td>0.02</td>\n    </tr>\n    <tr>\n      <th>Jesus Corona</th>\n      <td>Porto</td>\n      <td>312.0</td>\n      <td>Mexico</td>\n      <td>Mexico</td>\n      <td>27.0</td>\n      <td>173.0</td>\n      <td>62.0</td>\n      <td>both</td>\n      <td>13</td>\n      <td>1143</td>\n      <td>...</td>\n      <td>2.78</td>\n      <td>5.23</td>\n      <td>0.17</td>\n      <td>0.93</td>\n      <td>1.08</td>\n      <td>17.59</td>\n      <td>10.27</td>\n      <td>7.32</td>\n      <td>0.02</td>\n      <td>0.02</td>\n    </tr>\n    <tr>\n      <th>Diogo Leite</th>\n      <td>Porto</td>\n      <td>311.0</td>\n      <td>Portugal</td>\n      <td>Portugal</td>\n      <td>21.0</td>\n      <td>192.0</td>\n      <td>81.0</td>\n      <td>left</td>\n      <td>5</td>\n      <td>483</td>\n      <td>...</td>\n      <td>0.38</td>\n      <td>0.21</td>\n      <td>0.13</td>\n      <td>0.19</td>\n      <td>5.26</td>\n      <td>9.37</td>\n      <td>2.36</td>\n      <td>7.01</td>\n      <td>0.60</td>\n      <td>0.10</td>\n    </tr>\n    <tr>\n      <th>Joao Mario</th>\n      <td>Sporting CP</td>\n      <td>310.0</td>\n      <td>Portugal. Angola</td>\n      <td>NaN</td>\n      <td>27.0</td>\n      <td>179.0</td>\n      <td>67.0</td>\n      <td>right</td>\n      <td>4</td>\n      <td>200</td>\n      <td>...</td>\n      <td>0.45</td>\n      <td>0.92</td>\n      <td>0.08</td>\n      <td>NaN</td>\n      <td>NaN</td>\n      <td>6.26</td>\n      <td>1.22</td>\n      <td>5.04</td>\n      <td>0.04</td>\n      <td>0.02</td>\n    </tr>\n    <tr>\n      <th>Pedro Goncalves</th>\n      <td>Sporting CP</td>\n      <td>305.0</td>\n      <td>Portugal</td>\n      <td>Portugal</td>\n      <td>22.0</td>\n      <td>173.0</td>\n      <td>58.0</td>\n      <td>right</td>\n      <td>10</td>\n      <td>753</td>\n      <td>...</td>\n      <td>2.77</td>\n      <td>5.35</td>\n      <td>0.12</td>\n      <td>0.40</td>\n      <td>2.53</td>\n      <td>15.68</td>\n      <td>4.55</td>\n      <td>11.13</td>\n      <td>0.13</td>\n      <td>0.13</td>\n    </tr>\n  </tbody>\n</table>\n<p>5 rows × 80 columns</p>\n</div>"
     },
     "execution_count": 9,
     "metadata": {},
     "output_type": "execute_result"
    }
   ],
   "source": [
    "# Ler um ficheiro .csv\n",
    "\n",
    "url = 'https://raw.githubusercontent.com/rmarcelino4/CDAARD-UMaia/main/Dados/Liga_NOS_20-21_Data.csv'\n",
    "\n",
    "df = pd.read_csv(url, index_col=0)\n",
    "\n",
    "df.head()"
   ],
   "metadata": {
    "collapsed": false,
    "pycharm": {
     "name": "#%%\n"
    }
   }
  },
  {
   "cell_type": "code",
   "execution_count": 13,
   "outputs": [
    {
     "data": {
      "text/plain": "       Unnamed: 1 Penalty InStat Index  Matches played Position  \\\n27     Rafa Silva       -          268              10       CM   \n3   Alex Grimaldo       -          265              10       LD   \n20     Joao Mario       3          261              10       DM   \n11           Pepê       -          261              11       LM   \n3            Pepe       -          258               6       CD   \n\n    Minutes played Starting lineup appearances Substitute out Substitutes in  \\\n27             933                          10              4              -   \n3              963                          10              3              -   \n20             793                          10              5              -   \n11            1039                          11              5              -   \n3              588                           6              -              -   \n\n   Goals  ... Free ball pick ups         Nationality     Team National team   \\\n27     6  ...                 38  Portugal, Portugal  Benfica       Portugal   \n3      1  ...                 64               Spain  Benfica              -   \n20     4  ...                 35  Portugal, Portugal  Benfica       Portugal   \n11     2  ...                 67              Brazil    Porto              -   \n3      -  ...                 55    Portugal, Brazil    Porto       Portugal   \n\n   Age Height Weight   Foot National team (last match date, mm.yy)  \\\n27  29    170     62  Right                                  09.21   \n3   27    171     63   Left                                      -   \n20  29    179     67  Right                                  09.22   \n11  25    175     62  Right                                      -   \n3   39    187     81  Right                                  06.22   \n\n   Youth national team (last match date, mm.yy)  \n27                                        06.15  \n3                                         09.16  \n20                                        06.15  \n11                                        02.20  \n3                                             -  \n\n[5 rows x 82 columns]",
      "text/html": "<div>\n<style scoped>\n    .dataframe tbody tr th:only-of-type {\n        vertical-align: middle;\n    }\n\n    .dataframe tbody tr th {\n        vertical-align: top;\n    }\n\n    .dataframe thead th {\n        text-align: right;\n    }\n</style>\n<table border=\"1\" class=\"dataframe\">\n  <thead>\n    <tr style=\"text-align: right;\">\n      <th></th>\n      <th>Unnamed: 1</th>\n      <th>Penalty</th>\n      <th>InStat Index</th>\n      <th>Matches played</th>\n      <th>Position</th>\n      <th>Minutes played</th>\n      <th>Starting lineup appearances</th>\n      <th>Substitute out</th>\n      <th>Substitutes in</th>\n      <th>Goals</th>\n      <th>...</th>\n      <th>Free ball pick ups</th>\n      <th>Nationality</th>\n      <th>Team</th>\n      <th>National team</th>\n      <th>Age</th>\n      <th>Height</th>\n      <th>Weight</th>\n      <th>Foot</th>\n      <th>National team (last match date, mm.yy)</th>\n      <th>Youth national team (last match date, mm.yy)</th>\n    </tr>\n  </thead>\n  <tbody>\n    <tr>\n      <th>27</th>\n      <td>Rafa Silva</td>\n      <td>-</td>\n      <td>268</td>\n      <td>10</td>\n      <td>CM</td>\n      <td>933</td>\n      <td>10</td>\n      <td>4</td>\n      <td>-</td>\n      <td>6</td>\n      <td>...</td>\n      <td>38</td>\n      <td>Portugal, Portugal</td>\n      <td>Benfica</td>\n      <td>Portugal</td>\n      <td>29</td>\n      <td>170</td>\n      <td>62</td>\n      <td>Right</td>\n      <td>09.21</td>\n      <td>06.15</td>\n    </tr>\n    <tr>\n      <th>3</th>\n      <td>Alex Grimaldo</td>\n      <td>-</td>\n      <td>265</td>\n      <td>10</td>\n      <td>LD</td>\n      <td>963</td>\n      <td>10</td>\n      <td>3</td>\n      <td>-</td>\n      <td>1</td>\n      <td>...</td>\n      <td>64</td>\n      <td>Spain</td>\n      <td>Benfica</td>\n      <td>-</td>\n      <td>27</td>\n      <td>171</td>\n      <td>63</td>\n      <td>Left</td>\n      <td>-</td>\n      <td>09.16</td>\n    </tr>\n    <tr>\n      <th>20</th>\n      <td>Joao Mario</td>\n      <td>3</td>\n      <td>261</td>\n      <td>10</td>\n      <td>DM</td>\n      <td>793</td>\n      <td>10</td>\n      <td>5</td>\n      <td>-</td>\n      <td>4</td>\n      <td>...</td>\n      <td>35</td>\n      <td>Portugal, Portugal</td>\n      <td>Benfica</td>\n      <td>Portugal</td>\n      <td>29</td>\n      <td>179</td>\n      <td>67</td>\n      <td>Right</td>\n      <td>09.22</td>\n      <td>06.15</td>\n    </tr>\n    <tr>\n      <th>11</th>\n      <td>Pepê</td>\n      <td>-</td>\n      <td>261</td>\n      <td>11</td>\n      <td>LM</td>\n      <td>1039</td>\n      <td>11</td>\n      <td>5</td>\n      <td>-</td>\n      <td>2</td>\n      <td>...</td>\n      <td>67</td>\n      <td>Brazil</td>\n      <td>Porto</td>\n      <td>-</td>\n      <td>25</td>\n      <td>175</td>\n      <td>62</td>\n      <td>Right</td>\n      <td>-</td>\n      <td>02.20</td>\n    </tr>\n    <tr>\n      <th>3</th>\n      <td>Pepe</td>\n      <td>-</td>\n      <td>258</td>\n      <td>6</td>\n      <td>CD</td>\n      <td>588</td>\n      <td>6</td>\n      <td>-</td>\n      <td>-</td>\n      <td>-</td>\n      <td>...</td>\n      <td>55</td>\n      <td>Portugal, Brazil</td>\n      <td>Porto</td>\n      <td>Portugal</td>\n      <td>39</td>\n      <td>187</td>\n      <td>81</td>\n      <td>Right</td>\n      <td>06.22</td>\n      <td>-</td>\n    </tr>\n  </tbody>\n</table>\n<p>5 rows × 82 columns</p>\n</div>"
     },
     "execution_count": 13,
     "metadata": {},
     "output_type": "execute_result"
    }
   ],
   "source": [
    "url = 'https://raw.githubusercontent.com/rmarcelino4/CDAARD-UMaia/main/Dados/03_11_2022_LigaPortugal.xlsx'\n",
    "\n",
    "\n",
    "df1 = pd.read_excel(url, index_col=0)\n",
    "\n",
    "df1.head()"
   ],
   "metadata": {
    "collapsed": false,
    "pycharm": {
     "name": "#%%\n"
    }
   }
  },
  {
   "cell_type": "code",
   "execution_count": null,
   "outputs": [],
   "source": [],
   "metadata": {
    "collapsed": false,
    "pycharm": {
     "name": "#%%\n"
    }
   }
  }
 ],
 "metadata": {
  "kernelspec": {
   "display_name": "Python 3",
   "language": "python",
   "name": "python3"
  },
  "language_info": {
   "codemirror_mode": {
    "name": "ipython",
    "version": 2
   },
   "file_extension": ".py",
   "mimetype": "text/x-python",
   "name": "python",
   "nbconvert_exporter": "python",
   "pygments_lexer": "ipython2",
   "version": "2.7.6"
  }
 },
 "nbformat": 4,
 "nbformat_minor": 0
}