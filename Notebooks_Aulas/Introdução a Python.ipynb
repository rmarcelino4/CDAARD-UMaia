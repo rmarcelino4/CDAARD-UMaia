{
 "cells": [
  {
   "cell_type": "markdown",
   "metadata": {
    "collapsed": true,
    "pycharm": {
     "name": "#%% md\n"
    }
   },
   "source": [
    "# Tutorial de introdução ao python para as Aulas de Ciência de Dados aplicadas à Análise do Rendimento Desportivo\n",
    "## autor: Rui Marcelino\n",
    "### ano: 2022\n",
    "### Universidade da Maia"
   ]
  },
  {
   "cell_type": "code",
   "execution_count": null,
   "outputs": [],
   "source": [
    "#operações matemáticas básicas\n",
    "print(2+2)\n",
    "print(2*2)\n",
    "print(2-2)\n",
    "print(2/2)"
   ],
   "metadata": {
    "collapsed": false,
    "pycharm": {
     "name": "#%%\n"
    }
   }
  },
  {
   "cell_type": "code",
   "execution_count": null,
   "outputs": [],
   "source": [
    "#operações matemáticas com variáveis\n",
    "a = 2\n",
    "b = 2\n",
    "print(a+b)\n",
    "print(a-b)\n",
    "print(a*b)\n",
    "print(a/b)"
   ],
   "metadata": {
    "collapsed": false,
    "pycharm": {
     "name": "#%%\n"
    }
   }
  },
  {
   "cell_type": "code",
   "execution_count": null,
   "outputs": [],
   "source": [
    "#operações matemáticas com variáveis e números\n",
    "a = 2\n",
    "b = 2\n",
    "print(a+3)\n",
    "print(a-3)"
   ],
   "metadata": {
    "collapsed": false,
    "pycharm": {
     "name": "#%%\n"
    }
   }
  },
  {
   "cell_type": "code",
   "execution_count": null,
   "outputs": [],
   "source": [
    "#criar gráficos simples com matplotlib\n",
    "import matplotlib.pyplot as plt\n",
    "\n",
    "#de barras\n",
    "plt.bar([1,2,3],[3,4,5])\n",
    "plt.show()"
   ],
   "metadata": {
    "collapsed": false,
    "pycharm": {
     "name": "#%%\n"
    }
   }
  },
  {
   "cell_type": "code",
   "execution_count": null,
   "outputs": [],
   "source": [
    "#de linhas\n",
    "plt.plot([1,2,3],[3,4,5])\n",
    "plt.show()"
   ],
   "metadata": {
    "collapsed": false,
    "pycharm": {
     "name": "#%%\n"
    }
   }
  },
  {
   "cell_type": "code",
   "execution_count": null,
   "outputs": [],
   "source": [
    "#de pontos\n",
    "plt.scatter([1,2,3],[3,4,5])\n",
    "plt.show()"
   ],
   "metadata": {
    "collapsed": false,
    "pycharm": {
     "name": "#%%\n"
    }
   }
  },
  {
   "cell_type": "code",
   "execution_count": null,
   "outputs": [],
   "source": [
    "#de boxplot\n",
    "plt.boxplot([1,2,3,4,5,6,7,8,9,10])\n",
    "plt.show()"
   ],
   "metadata": {
    "collapsed": false,
    "pycharm": {
     "name": "#%%\n"
    }
   }
  },
  {
   "cell_type": "code",
   "execution_count": null,
   "outputs": [],
   "source": [
    "#de histograma\n",
    "plt.hist([1,2,3,4,6,7,8,9,10])\n",
    "plt.show()"
   ],
   "metadata": {
    "collapsed": false,
    "pycharm": {
     "name": "#%%\n"
    }
   }
  },
  {
   "cell_type": "code",
   "execution_count": null,
   "outputs": [],
   "source": [
    "#de pizza\n",
    "plt.pie([1,2,3,4,5,6,7,8,9,10])\n",
    "plt.show()"
   ],
   "metadata": {
    "collapsed": false,
    "pycharm": {
     "name": "#%%\n"
    }
   }
  },
  {
   "cell_type": "code",
   "execution_count": null,
   "outputs": [],
   "source": [
    "#de pizza com labels\n",
    "plt.pie([1,2,3,4,5,6,7,8,9,10], labels=['a','b','c','d','e','f','g','h','i','j'])\n",
    "plt.show()"
   ],
   "metadata": {
    "collapsed": false,
    "pycharm": {
     "name": "#%%\n"
    }
   }
  },
  {
   "cell_type": "code",
   "execution_count": null,
   "outputs": [],
   "source": [
    "#de pizza com labels e legendas\n",
    "plt.pie([1,2,3,4,5,6,7,8,9,10], labels=['a','b','c','d','e','f','g','h','i','j'])\n",
    "plt.legend()\n",
    "plt.show()"
   ],
   "metadata": {
    "collapsed": false,
    "pycharm": {
     "name": "#%%\n"
    }
   }
  },
  {
   "cell_type": "code",
   "execution_count": null,
   "outputs": [],
   "source": [
    "#de pizza com labels, legendas e título\n",
    "plt.pie([1,2,3,4,5,6,7,8,9,10], labels=['a','b','c','d','e','f','g','h','i','j'])\n",
    "plt.legend()\n",
    "plt.title('Gráfico de pizza')\n",
    "plt.show()"
   ],
   "metadata": {
    "collapsed": false,
    "pycharm": {
     "name": "#%%\n"
    }
   }
  },
  {
   "cell_type": "code",
   "execution_count": null,
   "outputs": [],
   "source": [
    "#de pizza com labels, legendas, título e cor\n",
    "plt.pie([1,2,3,4,5,6,7,8,9,10], labels=['a','b','c','d','e','f','g','h','i','j'], colors=['red','blue','green','yellow','orange','purple','pink','brown','gray','black'])\n",
    "plt.legend()\n",
    "plt.title('Gráfico de pizza')\n",
    "plt.show()"
   ],
   "metadata": {
    "collapsed": false,
    "pycharm": {
     "name": "#%%\n"
    }
   }
  },
  {
   "cell_type": "code",
   "execution_count": null,
   "outputs": [],
   "source": [
    "#exportar gráficos para ficheiros\n",
    "plt.pie([1,2,3,4,5,6,7,8,9,10], labels=['a','b','c','d','e','f','g','h','i','j'], colors=['red','blue','green','yellow','orange','purple','pink','brown','gray','black'])\n",
    "plt.legend()\n",
    "plt.title('Gráfico de pizza')\n",
    "plt.savefig('grafico_pizza.png')"
   ],
   "metadata": {
    "collapsed": false,
    "pycharm": {
     "name": "#%%\n"
    }
   }
  },
  {
   "cell_type": "code",
   "execution_count": null,
   "outputs": [],
   "source": [
    "#mostrar gráficos em janelas separadas\n",
    "plt.figure(1)\n",
    "plt.pie([1,2,3,4,5,6,7,8,9,10], labels=['a','b','c','d','e','f','g','h','i','j'], colors=['red','blue','green','yellow','orange','purple','pink','brown','gray','black'])\n",
    "plt.legend()\n",
    "plt.title('Gráfico de pizza')\n",
    "plt.figure(2)\n",
    "plt.bar([1,2,3],[3,4,5])\n",
    "plt.show()"
   ],
   "metadata": {
    "collapsed": false,
    "pycharm": {
     "name": "#%%\n"
    }
   }
  },
  {
   "cell_type": "code",
   "execution_count": null,
   "outputs": [],
   "source": [
    "#criar variáveis com valores e fazer análises\n",
    "a = 2\n",
    "b = 2\n",
    "print(a+b)\n",
    "print(a-b)"
   ],
   "metadata": {
    "collapsed": false,
    "pycharm": {
     "name": "#%%\n"
    }
   }
  },
  {
   "cell_type": "code",
   "execution_count": null,
   "outputs": [],
   "source": [
    "#gerar um dataframe com variáveis vategóricas e numéricas aleatórias\n",
    "import pandas as pd\n",
    "import numpy as np\n",
    "df = pd.DataFrame({'A': np.random.randn(365).cumsum(),\n",
    "                   'B': np.random.randn(365).cumsum(),\n",
    "                   'C': np.random.randn(365).cumsum(),\n",
    "                   'D': np.random.randn(365).cumsum(),\n",
    "                   'E': np.random.randn(365).cumsum(),\n",
    "                   'F': np.random.randn(365).cumsum(),\n",
    "                   'G': np.random.randn(365).cumsum(),\n",
    "                   'H': np.random.randn(365).cumsum()\n",
    "                   })"
   ],
   "metadata": {
    "collapsed": false,
    "pycharm": {
     "name": "#%%\n"
    }
   }
  },
  {
   "cell_type": "code",
   "execution_count": null,
   "outputs": [],
   "source": [
    "#mostrar priemiras linhas do dataframe\n",
    "df.head()"
   ],
   "metadata": {
    "collapsed": false,
    "pycharm": {
     "name": "#%%\n"
    }
   }
  },
  {
   "cell_type": "code",
   "execution_count": null,
   "outputs": [],
   "source": [
    "#adicionar variáveis vategóricas \"vitória\" e \"derrota\" aleatórias\n",
    "df['vitória'] = np.random.choice(['sim','não'], size=365)\n",
    "df['derrota'] = np.random.choice(['sim','não'], size=365)"
   ],
   "metadata": {
    "collapsed": false,
    "pycharm": {
     "name": "#%%\n"
    }
   }
  },
  {
   "cell_type": "code",
   "execution_count": null,
   "outputs": [],
   "source": [
    "#mostrar priemiras linhas do dataframe\n",
    "df.head()"
   ],
   "metadata": {
    "collapsed": false,
    "pycharm": {
     "name": "#%%\n"
    }
   }
  },
  {
   "cell_type": "code",
   "execution_count": null,
   "outputs": [],
   "source": [
    "#mostrar últimas linhas do dataframe\n",
    "df.tail()"
   ],
   "metadata": {
    "collapsed": false,
    "pycharm": {
     "name": "#%%\n"
    }
   }
  },
  {
   "cell_type": "code",
   "execution_count": null,
   "outputs": [],
   "source": [
    "#mostrar estatísticas do dataframe\n",
    "df.describe()"
   ],
   "metadata": {
    "collapsed": false,
    "pycharm": {
     "name": "#%%\n"
    }
   }
  },
  {
   "cell_type": "code",
   "execution_count": null,
   "outputs": [],
   "source": [
    "#mostrar tipos de dados do dataframe\n",
    "df.dtypes"
   ],
   "metadata": {
    "collapsed": false,
    "pycharm": {
     "name": "#%%\n"
    }
   }
  },
  {
   "cell_type": "code",
   "execution_count": null,
   "outputs": [],
   "source": [
    "#mostrar shape do dataframe\n",
    "df.shape"
   ],
   "metadata": {
    "collapsed": false,
    "pycharm": {
     "name": "#%%\n"
    }
   }
  },
  {
   "cell_type": "code",
   "execution_count": null,
   "outputs": [],
   "source": [
    "#mostrar colunas do dataframe\n",
    "df.columns"
   ],
   "metadata": {
    "collapsed": false,
    "pycharm": {
     "name": "#%%\n"
    }
   }
  },
  {
   "cell_type": "code",
   "execution_count": null,
   "outputs": [],
   "source": [
    "#mostrar valores do dataframe\n",
    "df.values"
   ],
   "metadata": {
    "collapsed": false,
    "pycharm": {
     "name": "#%%\n"
    }
   }
  },
  {
   "cell_type": "code",
   "execution_count": null,
   "outputs": [],
   "source": [
    "#mostrar estatísticas do dataframe com variáveis numéricas\n",
    "df.describe().loc[['mean','std','min','max']]"
   ],
   "metadata": {
    "collapsed": false,
    "pycharm": {
     "name": "#%%\n"
    }
   }
  },
  {
   "cell_type": "code",
   "execution_count": null,
   "outputs": [],
   "source": [
    "#mostrar estatísticas do dataframe com variáveis numéricas para 'vitória'\n",
    "df[df['vitória']=='sim'].describe().loc[['mean','std','min','max','count']]"
   ],
   "metadata": {
    "collapsed": false,
    "pycharm": {
     "name": "#%%\n"
    }
   }
  },
  {
   "cell_type": "code",
   "execution_count": null,
   "outputs": [],
   "source": [
    "#mostrar estatísticas do dataframe com variáveis numéricas para 'derrota'\n",
    "df[df['derrota']=='sim'].describe().loc[['mean','std','min','max', 'count']]"
   ],
   "metadata": {
    "collapsed": false,
    "pycharm": {
     "name": "#%%\n"
    }
   }
  },
  {
   "cell_type": "code",
   "execution_count": null,
   "outputs": [],
   "source": [
    "#mostrar estatísticas do dataframe com variáveis numéricas para 'vitória' E 'derrota'\n",
    "df[(df['vitória']=='sim') & (df['derrota']=='sim')].describe().loc[['mean','std','min','max', 'count']]"
   ],
   "metadata": {
    "collapsed": false,
    "pycharm": {
     "name": "#%%\n"
    }
   }
  },
  {
   "cell_type": "code",
   "execution_count": null,
   "outputs": [],
   "source": [
    "#mostrar estatísticas do dataframe com variáveis numéricas para 'vitória' OU 'derrota'\n",
    "df[(df['vitória']=='sim') | (df['derrota']=='sim')].describe().loc[['mean','std','min','max', 'count']]"
   ],
   "metadata": {
    "collapsed": false,
    "pycharm": {
     "name": "#%%\n"
    }
   }
  },
  {
   "cell_type": "code",
   "execution_count": null,
   "outputs": [],
   "source": [
    "#média de valores de colunas para vitória\n",
    "df[df['vitória']=='sim'].mean()"
   ],
   "metadata": {
    "collapsed": false,
    "pycharm": {
     "name": "#%%\n"
    }
   }
  },
  {
   "cell_type": "code",
   "execution_count": null,
   "outputs": [],
   "source": [
    "#média de valores de colunas para derrota\n",
    "df[df['derrota']=='sim'].mean()"
   ],
   "metadata": {
    "collapsed": false,
    "pycharm": {
     "name": "#%%\n"
    }
   }
  },
  {
   "cell_type": "code",
   "execution_count": null,
   "outputs": [],
   "source": [
    "#mostrar valores lado a lado\n",
    "pd.concat([df[df['vitória']=='sim'].mean(),df[df['derrota']=='sim'].mean()], axis=1)"
   ],
   "metadata": {
    "collapsed": false,
    "pycharm": {
     "name": "#%%\n"
    }
   }
  },
  {
   "cell_type": "code",
   "execution_count": null,
   "outputs": [],
   "source": [
    "#mostrar resultados em gráfico de barras\n",
    "pd.concat([df[df['vitória']=='sim'].mean(),df[df['derrota']=='sim'].mean()], axis=1).plot(kind='bar')\n",
    "plt.legend(['vitória','derrota'])\n",
    "plt.title('Vitória vs Derrota')\n",
    "plt.show()"
   ],
   "metadata": {
    "collapsed": false,
    "pycharm": {
     "name": "#%%\n"
    }
   }
  },
  {
   "cell_type": "code",
   "execution_count": null,
   "outputs": [],
   "source": [
    "#usar groupby para agrupar valores de colunas\n",
    "df.groupby('vitória').mean()"
   ],
   "metadata": {
    "collapsed": false,
    "pycharm": {
     "name": "#%%\n"
    }
   }
  },
  {
   "cell_type": "code",
   "execution_count": null,
   "outputs": [],
   "source": [
    "#mostrar resultados em gráfico de barras, com labels e legendas\n",
    "df.groupby('vitória').mean().plot(kind='bar')\n",
    "plt.legend(['a','b', 'c', 'd', 'e', 'f', 'g', 'h'])\n",
    "plt.show()"
   ],
   "metadata": {
    "collapsed": false,
    "pycharm": {
     "name": "#%%\n"
    }
   }
  },
  {
   "cell_type": "code",
   "execution_count": null,
   "outputs": [],
   "source": [
    "#usar groupby para agrupar valores de colunas\n",
    "df.groupby(['vitória','derrota']).mean()\n",
    "#mostrar resultados em gráfico de barras, com labels e legendas\n",
    "df.groupby(['vitória','derrota']).mean().plot(kind='bar')\n",
    "plt.legend(['a','b', 'c', 'd', 'e', 'f', 'g', 'h'])\n",
    "plt.show()"
   ],
   "metadata": {
    "collapsed": false,
    "pycharm": {
     "name": "#%%\n"
    }
   }
  },
  {
   "cell_type": "code",
   "execution_count": null,
   "outputs": [],
   "source": [
    "#editar gráfico com as legendas em baixo\n",
    "df.groupby(['vitória','derrota']).mean().plot(kind='bar')\n",
    "plt.legend(['a','b', 'c', 'd', 'e', 'f', 'g', 'h'], loc='upper center', bbox_to_anchor=(0.5, -0.15), ncol=4)\n",
    "plt.show()"
   ],
   "metadata": {
    "collapsed": false,
    "pycharm": {
     "name": "#%%\n"
    }
   }
  },
  {
   "cell_type": "code",
   "execution_count": null,
   "outputs": [],
   "source": [
    "#ver estilos disponíveis\n",
    "plt.style.available"
   ],
   "metadata": {
    "collapsed": false,
    "pycharm": {
     "name": "#%%\n"
    }
   }
  },
  {
   "cell_type": "code",
   "execution_count": null,
   "outputs": [],
   "source": [
    "#alterar estilo de grafico, colocando legendas do lado direito\n",
    "plt.style.use('classic')\n",
    "df.groupby(['vitória','derrota']).mean().plot(kind='bar')\n",
    "plt.legend(['a','b', 'c', 'd', 'e', 'f', 'g', 'h'], loc='upper center', bbox_to_anchor=(1.12, 0.6), ncol=1)\n",
    "plt.show()"
   ],
   "metadata": {
    "collapsed": false,
    "pycharm": {
     "name": "#%%\n"
    }
   }
  },
  {
   "cell_type": "code",
   "execution_count": null,
   "outputs": [],
   "source": [
    "#alterar estilo de grafico para ggplot, colocando legendas do lado direito\n",
    "plt.style.use('fivethirtyeight')\n",
    "df.groupby(['vitória','derrota']).mean().plot(kind='bar')\n",
    "plt.legend(['a','b', 'c', 'd', 'e', 'f', 'g', 'h'], loc='upper center', bbox_to_anchor=(1.12, 0.6), ncol=1)\n",
    "plt.show()"
   ],
   "metadata": {
    "collapsed": false,
    "pycharm": {
     "name": "#%%\n"
    }
   }
  },
  {
   "cell_type": "code",
   "execution_count": null,
   "outputs": [],
   "source": [
    "df.groupby(['vitória','derrota']).mean().plot(kind='bar', subplots=True, layout=(4,2), figsize=(10,10))\n",
    "plt.show()"
   ],
   "metadata": {
    "collapsed": false,
    "pycharm": {
     "name": "#%%\n"
    }
   }
  },
  {
   "cell_type": "code",
   "execution_count": null,
   "outputs": [],
   "source": [
    "#realizar uma matriz de correlação\n",
    "df.corr()"
   ],
   "metadata": {
    "collapsed": false,
    "pycharm": {
     "name": "#%%\n"
    }
   }
  },
  {
   "cell_type": "code",
   "execution_count": null,
   "outputs": [],
   "source": [
    "#mostrar matriz de correlação em um gráfico de calor\n",
    "import seaborn as sns\n",
    "sns.heatmap(df.corr(), annot=True)\n",
    "plt.show()"
   ],
   "metadata": {
    "collapsed": false,
    "pycharm": {
     "name": "#%%\n"
    }
   }
  },
  {
   "cell_type": "code",
   "execution_count": null,
   "outputs": [],
   "source": [],
   "metadata": {
    "collapsed": false,
    "pycharm": {
     "name": "#%%\n"
    }
   }
  },
  {
   "cell_type": "code",
   "execution_count": null,
   "outputs": [],
   "source": [
    "#comparar matriz de correlação entre vitória 'sim' e 'não'\n",
    "df[df['vitória']=='sim'].corr()\n"
   ],
   "metadata": {
    "collapsed": false,
    "pycharm": {
     "name": "#%%\n"
    }
   }
  },
  {
   "cell_type": "code",
   "execution_count": null,
   "outputs": [],
   "source": [
    "df[df['vitória']=='não'].corr()"
   ],
   "metadata": {
    "collapsed": false,
    "pycharm": {
     "name": "#%%\n"
    }
   }
  },
  {
   "cell_type": "code",
   "execution_count": null,
   "outputs": [],
   "source": [
    "#mostrar matriz de correlação em um gráfico de calor lado a lado\n",
    "fig, ax = plt.subplots(1,2, figsize=(10,5))\n",
    "sns.heatmap(df[df['vitória']=='sim'].corr(), annot=True, ax=ax[0])\n",
    "sns.heatmap(df[df['vitória']=='não'].corr(), annot=True, ax=ax[1])\n",
    "plt.show()"
   ],
   "metadata": {
    "collapsed": false,
    "pycharm": {
     "name": "#%%\n"
    }
   }
  },
  {
   "cell_type": "code",
   "execution_count": null,
   "outputs": [],
   "source": [
    "#diminir tamanho dos labels\n",
    "plt.rcParams.update({'font.size': 8})"
   ],
   "metadata": {
    "collapsed": false,
    "pycharm": {
     "name": "#%%\n"
    }
   }
  },
  {
   "cell_type": "code",
   "execution_count": null,
   "outputs": [],
   "source": [
    "#mostrar matriz de correlação em um gráfico de calor lado a lado\n",
    "fig, ax = plt.subplots(1,2, figsize=(10,5))\n",
    "sns.heatmap(df[df['vitória']=='sim'].corr(), annot=True, ax=ax[0])\n",
    "sns.heatmap(df[df['vitória']=='não'].corr(), annot=True, ax=ax[1])\n",
    "plt.show()"
   ],
   "metadata": {
    "collapsed": false,
    "pycharm": {
     "name": "#%%\n"
    }
   }
  },
  {
   "cell_type": "code",
   "execution_count": null,
   "outputs": [],
   "source": [
    "#ver nome de esquema de cores disponíveis\n",
    "plt.colormaps()"
   ],
   "metadata": {
    "collapsed": false,
    "pycharm": {
     "name": "#%%\n"
    }
   }
  },
  {
   "cell_type": "code",
   "execution_count": null,
   "outputs": [],
   "source": [
    "#alterar esquema de cores\n",
    "fig, ax = plt.subplots(1,2, figsize=(10,5))\n",
    "sns.heatmap(df[df['vitória']=='sim'].corr(), annot=True, cmap='Blues', ax=ax[0])\n",
    "sns.heatmap(df[df['vitória']=='não'].corr(), annot=True, cmap='Blues', ax=ax[1])\n",
    "plt.show()"
   ],
   "metadata": {
    "collapsed": false,
    "pycharm": {
     "name": "#%%\n"
    }
   }
  },
  {
   "cell_type": "code",
   "execution_count": null,
   "outputs": [],
   "source": [
    "#atribuir titulo aos gráficos e legendas\n",
    "fig, ax = plt.subplots(1,2, figsize=(10,5))\n",
    "sns.heatmap(df[df['vitória']=='sim'].corr(), annot=True, cmap='Greens', ax=ax[0])\n",
    "sns.heatmap(df[df['vitória']=='não'].corr(), annot=True, cmap='Reds', ax=ax[1])\n",
    "ax[0].set_title('vitória: sim')\n",
    "ax[1].set_title('vitória: não')\n",
    "plt.show()\n"
   ],
   "metadata": {
    "collapsed": false,
    "pycharm": {
     "name": "#%%\n"
    }
   }
  },
  {
   "cell_type": "code",
   "execution_count": null,
   "outputs": [],
   "source": [
    "#fazer um scaterplot com as variáveis 'A' e 'B'\n",
    "sns.scatterplot(x='A', y='B', data=df)\n",
    "plt.show()"
   ],
   "metadata": {
    "collapsed": false,
    "pycharm": {
     "name": "#%%\n"
    }
   }
  },
  {
   "cell_type": "code",
   "execution_count": null,
   "outputs": [],
   "source": [
    "#dar cor em função da variável 'vitória'\n",
    "sns.scatterplot(x='A', y='B', hue='vitória', data=df)\n",
    "plt.show()"
   ],
   "metadata": {
    "collapsed": false,
    "pycharm": {
     "name": "#%%\n"
    }
   }
  },
  {
   "cell_type": "code",
   "execution_count": null,
   "outputs": [],
   "source": [
    "#adicionar uma reta de regressão em função da variável 'vitória'\n",
    "sns.lmplot(x='A', y='B', hue='vitória', data=df)\n",
    "plt.show()"
   ],
   "metadata": {
    "collapsed": false,
    "pycharm": {
     "name": "#%%\n"
    }
   }
  },
  {
   "cell_type": "code",
   "execution_count": null,
   "outputs": [],
   "source": [
    "\n",
    "#construir uma matriz de scatterplots\n",
    "sns.pairplot(df, hue='vitória')\n",
    "plt.savefig('grafico.eps', format='eps', dpi=1000)\n",
    "plt.show()"
   ],
   "metadata": {
    "collapsed": false,
    "pycharm": {
     "name": "#%%\n"
    }
   }
  },
  {
   "cell_type": "code",
   "execution_count": null,
   "outputs": [],
   "source": [
    "#determinar os valores máximos de correlação entre as variáveis, excluindo as auto-correlações\n",
    "df.corr().abs().unstack().sort_values(ascending=False).drop_duplicates()"
   ],
   "metadata": {
    "collapsed": false,
    "pycharm": {
     "name": "#%%\n"
    }
   }
  },
  {
   "cell_type": "code",
   "execution_count": null,
   "outputs": [],
   "source": [
    "#mostrar maior correlação\n",
    "sns.lmplot(x='D', y='A', hue='vitória', data=df)\n",
    "plt.show()"
   ],
   "metadata": {
    "collapsed": false,
    "pycharm": {
     "name": "#%%\n"
    }
   }
  },
  {
   "cell_type": "code",
   "execution_count": null,
   "outputs": [],
   "source": [
    "#mostrar menor correlação\n",
    "sns.lmplot(x='F', y='E', hue='vitória', data=df)\n",
    "plt.show()"
   ],
   "metadata": {
    "collapsed": false,
    "pycharm": {
     "name": "#%%\n"
    }
   }
  },
  {
   "cell_type": "code",
   "execution_count": null,
   "outputs": [],
   "source": [],
   "metadata": {
    "collapsed": false,
    "pycharm": {
     "name": "#%%\n"
    }
   }
  }
 ],
 "metadata": {
  "kernelspec": {
   "display_name": "Python 3",
   "language": "python",
   "name": "python3"
  },
  "language_info": {
   "codemirror_mode": {
    "name": "ipython",
    "version": 2
   },
   "file_extension": ".py",
   "mimetype": "text/x-python",
   "name": "python",
   "nbconvert_exporter": "python",
   "pygments_lexer": "ipython2",
   "version": "2.7.6"
  }
 },
 "nbformat": 4,
 "nbformat_minor": 0
}