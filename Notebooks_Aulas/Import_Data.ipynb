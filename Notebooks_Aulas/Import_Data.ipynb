{
 "cells": [
  {
   "cell_type": "markdown",
   "source": [
    "#Instruções para importar os dados"
   ],
   "metadata": {
    "collapsed": false,
    "pycharm": {
     "name": "#%% md\n"
    }
   }
  },
  {
   "cell_type": "code",
   "execution_count": 1,
   "outputs": [],
   "source": [
    "# importar a biblioteca pandas\n",
    "\n",
    "import pandas as pd"
   ],
   "metadata": {
    "collapsed": false,
    "pycharm": {
     "name": "#%%\n"
    }
   }
  },
  {
   "cell_type": "code",
   "execution_count": 2,
   "outputs": [
    {
     "data": {
      "text/plain": "            Player         Team  Performance_Index       Nationality  \\\n0          Gabriel      Benfica              318.0  Brazil. Portugal   \n1     Jesus Corona        Porto              312.0            Mexico   \n2      Diogo Leite        Porto              311.0          Portugal   \n3       Joao Mario  Sporting CP              310.0  Portugal. Angola   \n4  Pedro Goncalves  Sporting CP              305.0          Portugal   \n\n  National_team_   Age  Height  Weight   Foot  Matches_played_total  ...  \\\n0            NaN  27.0   186.0    82.0   left                     8  ...   \n1         Mexico  27.0   173.0    62.0   both                    13  ...   \n2       Portugal  21.0   192.0    81.0   left                     5  ...   \n3            NaN  27.0   179.0    67.0  right                     4  ...   \n4       Portugal  22.0   173.0    58.0  right                    10  ...   \n\n   xG_Expected_goals_total  Expected_assists_total  xG_per_shot_total  \\\n0                     0.48                    0.26               0.07   \n1                     2.78                    5.23               0.17   \n2                     0.38                    0.21               0.13   \n3                     0.45                    0.92               0.08   \n4                     2.77                    5.35               0.12   \n\n   xG_per_goal_total  xG_conversion_total  xG_with_a_player_on_total  \\\n0               0.48                 2.08                      13.89   \n1               0.93                 1.08                      17.59   \n2               0.19                 5.26                       9.37   \n3                NaN                  NaN                       6.26   \n4               0.40                 2.53                      15.68   \n\n   Opponent's_xG_with_a_player_on_total  \\\n0                                  5.67   \n1                                 10.27   \n2                                  2.36   \n3                                  1.22   \n4                                  4.55   \n\n   Net_xG_xG_player_on__opp._team's_xG_total  \\\n0                                       8.22   \n1                                       7.32   \n2                                       7.01   \n3                                       5.04   \n4                                      11.13   \n\n   Defensive_xG_xG_of_shots_made_by_guarded_player_total  \\\n0                                               0.02       \n1                                               0.02       \n2                                               0.60       \n3                                               0.04       \n4                                               0.13       \n\n   Defensive_xG_per_shot_total  \n0                         0.02  \n1                         0.02  \n2                         0.10  \n3                         0.02  \n4                         0.13  \n\n[5 rows x 81 columns]",
      "text/html": "<div>\n<style scoped>\n    .dataframe tbody tr th:only-of-type {\n        vertical-align: middle;\n    }\n\n    .dataframe tbody tr th {\n        vertical-align: top;\n    }\n\n    .dataframe thead th {\n        text-align: right;\n    }\n</style>\n<table border=\"1\" class=\"dataframe\">\n  <thead>\n    <tr style=\"text-align: right;\">\n      <th></th>\n      <th>Player</th>\n      <th>Team</th>\n      <th>Performance_Index</th>\n      <th>Nationality</th>\n      <th>National_team_</th>\n      <th>Age</th>\n      <th>Height</th>\n      <th>Weight</th>\n      <th>Foot</th>\n      <th>Matches_played_total</th>\n      <th>...</th>\n      <th>xG_Expected_goals_total</th>\n      <th>Expected_assists_total</th>\n      <th>xG_per_shot_total</th>\n      <th>xG_per_goal_total</th>\n      <th>xG_conversion_total</th>\n      <th>xG_with_a_player_on_total</th>\n      <th>Opponent's_xG_with_a_player_on_total</th>\n      <th>Net_xG_xG_player_on__opp._team's_xG_total</th>\n      <th>Defensive_xG_xG_of_shots_made_by_guarded_player_total</th>\n      <th>Defensive_xG_per_shot_total</th>\n    </tr>\n  </thead>\n  <tbody>\n    <tr>\n      <th>0</th>\n      <td>Gabriel</td>\n      <td>Benfica</td>\n      <td>318.0</td>\n      <td>Brazil. Portugal</td>\n      <td>NaN</td>\n      <td>27.0</td>\n      <td>186.0</td>\n      <td>82.0</td>\n      <td>left</td>\n      <td>8</td>\n      <td>...</td>\n      <td>0.48</td>\n      <td>0.26</td>\n      <td>0.07</td>\n      <td>0.48</td>\n      <td>2.08</td>\n      <td>13.89</td>\n      <td>5.67</td>\n      <td>8.22</td>\n      <td>0.02</td>\n      <td>0.02</td>\n    </tr>\n    <tr>\n      <th>1</th>\n      <td>Jesus Corona</td>\n      <td>Porto</td>\n      <td>312.0</td>\n      <td>Mexico</td>\n      <td>Mexico</td>\n      <td>27.0</td>\n      <td>173.0</td>\n      <td>62.0</td>\n      <td>both</td>\n      <td>13</td>\n      <td>...</td>\n      <td>2.78</td>\n      <td>5.23</td>\n      <td>0.17</td>\n      <td>0.93</td>\n      <td>1.08</td>\n      <td>17.59</td>\n      <td>10.27</td>\n      <td>7.32</td>\n      <td>0.02</td>\n      <td>0.02</td>\n    </tr>\n    <tr>\n      <th>2</th>\n      <td>Diogo Leite</td>\n      <td>Porto</td>\n      <td>311.0</td>\n      <td>Portugal</td>\n      <td>Portugal</td>\n      <td>21.0</td>\n      <td>192.0</td>\n      <td>81.0</td>\n      <td>left</td>\n      <td>5</td>\n      <td>...</td>\n      <td>0.38</td>\n      <td>0.21</td>\n      <td>0.13</td>\n      <td>0.19</td>\n      <td>5.26</td>\n      <td>9.37</td>\n      <td>2.36</td>\n      <td>7.01</td>\n      <td>0.60</td>\n      <td>0.10</td>\n    </tr>\n    <tr>\n      <th>3</th>\n      <td>Joao Mario</td>\n      <td>Sporting CP</td>\n      <td>310.0</td>\n      <td>Portugal. Angola</td>\n      <td>NaN</td>\n      <td>27.0</td>\n      <td>179.0</td>\n      <td>67.0</td>\n      <td>right</td>\n      <td>4</td>\n      <td>...</td>\n      <td>0.45</td>\n      <td>0.92</td>\n      <td>0.08</td>\n      <td>NaN</td>\n      <td>NaN</td>\n      <td>6.26</td>\n      <td>1.22</td>\n      <td>5.04</td>\n      <td>0.04</td>\n      <td>0.02</td>\n    </tr>\n    <tr>\n      <th>4</th>\n      <td>Pedro Goncalves</td>\n      <td>Sporting CP</td>\n      <td>305.0</td>\n      <td>Portugal</td>\n      <td>Portugal</td>\n      <td>22.0</td>\n      <td>173.0</td>\n      <td>58.0</td>\n      <td>right</td>\n      <td>10</td>\n      <td>...</td>\n      <td>2.77</td>\n      <td>5.35</td>\n      <td>0.12</td>\n      <td>0.40</td>\n      <td>2.53</td>\n      <td>15.68</td>\n      <td>4.55</td>\n      <td>11.13</td>\n      <td>0.13</td>\n      <td>0.13</td>\n    </tr>\n  </tbody>\n</table>\n<p>5 rows × 81 columns</p>\n</div>"
     },
     "execution_count": 2,
     "metadata": {},
     "output_type": "execute_result"
    }
   ],
   "source": [
    "# Ler um ficheiro .csv\n",
    "\n",
    "df = pd.read_csv(\"https://raw.githubusercontent.com/rmarcelino4/CDAARD-UMaia/main/Dados/Liga_NOS_20-21.csv?token=AC7WFEE7DKURSCUPVUKGRCTBSZSRY\")\n",
    "df.head()"
   ],
   "metadata": {
    "collapsed": false,
    "pycharm": {
     "name": "#%%\n"
    }
   }
  },
  {
   "cell_type": "code",
   "execution_count": null,
   "outputs": [],
   "source": [],
   "metadata": {
    "collapsed": false,
    "pycharm": {
     "name": "#%%\n"
    }
   }
  }
 ],
 "metadata": {
  "kernelspec": {
   "display_name": "Python 3",
   "language": "python",
   "name": "python3"
  },
  "language_info": {
   "codemirror_mode": {
    "name": "ipython",
    "version": 2
   },
   "file_extension": ".py",
   "mimetype": "text/x-python",
   "name": "python",
   "nbconvert_exporter": "python",
   "pygments_lexer": "ipython2",
   "version": "2.7.6"
  }
 },
 "nbformat": 4,
 "nbformat_minor": 0
}